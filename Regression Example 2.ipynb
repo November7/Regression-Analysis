{
 "cells": [
  {
   "cell_type": "markdown",
   "metadata": {},
   "source": [
    "## Regresja logistyczna"
   ]
  },
  {
   "cell_type": "markdown",
   "metadata": {},
   "source": [
    "### Wczytanie bibliotek i danych\n",
    "\n",
    "Wymagane biblioteki:\n",
    "- pandas (pip install pandas)\n",
    "- sklearn (pip install scikit-learn)\n",
    "- matplotlib (pip install matplotlib)\n",
    "- numpy (pip install numpy)"
   ]
  },
  {
   "cell_type": "code",
   "execution_count": 82,
   "metadata": {},
   "outputs": [
    {
     "name": "stdout",
     "output_type": "stream",
     "text": [
      "     student      balance        income default\n",
      "0        YES   729.526495  44361.625074     DEF\n",
      "1         NO   817.180407  12106.134700     DEF\n",
      "2        YES  1073.549164  31767.138947     DEF\n",
      "3        YES   529.250605  35704.493935     DEF\n",
      "4        YES   785.655883  38463.495879     DEF\n",
      "...      ...          ...           ...     ...\n",
      "9995     YES   711.555020  52992.378914     DEF\n",
      "9996     YES   757.962918  19660.721768     DEF\n",
      "9997     YES   845.411989  58636.156984     DEF\n",
      "9998     YES  1569.009053  36669.112365     DEF\n",
      "9999      NO   200.922183  16862.952321     DEF\n",
      "\n",
      "[10000 rows x 4 columns]\n",
      "      student      balance        income  default\n",
      "0           1   729.526495  44361.625074        1\n",
      "1           0   817.180407  12106.134700        1\n",
      "2           1  1073.549164  31767.138947        1\n",
      "3           1   529.250605  35704.493935        1\n",
      "4           1   785.655883  38463.495879        1\n",
      "...       ...          ...           ...      ...\n",
      "9995        1   711.555020  52992.378914        1\n",
      "9996        1   757.962918  19660.721768        1\n",
      "9997        1   845.411989  58636.156984        1\n",
      "9998        1  1569.009053  36669.112365        1\n",
      "9999        0   200.922183  16862.952321        1\n",
      "\n",
      "[10000 rows x 4 columns]\n",
      "<class 'pandas.core.frame.DataFrame'>\n",
      "RangeIndex: 10000 entries, 0 to 9999\n",
      "Data columns (total 4 columns):\n",
      " #   Column   Non-Null Count  Dtype  \n",
      "---  ------   --------------  -----  \n",
      " 0   student  10000 non-null  int64  \n",
      " 1   balance  10000 non-null  float64\n",
      " 2   income   10000 non-null  float64\n",
      " 3   default  10000 non-null  int64  \n",
      "dtypes: float64(2), int64(2)\n",
      "memory usage: 312.6 KB\n",
      "None\n"
     ]
    }
   ],
   "source": [
    "import numpy as np\n",
    "import pandas as pd\n",
    "from sklearn.linear_model import LogisticRegression\n",
    "from sklearn. model_selection import train_test_split\n",
    "\n",
    "dane = pd.read_csv('finances.csv', sep=',', decimal='.')\n",
    "print(dane)\n",
    "\n",
    "#zamiana wartości tekstowych na binarne (0/1)\n",
    "\n",
    "dane['student'] = dane['student'].map(lambda x: 1 if x =='YES' else 0)\n",
    "dane['default'] = dane['default'].map(lambda x: 1 if x =='DEF' else 0)\n",
    "\n",
    "print(dane)\n",
    "print(dane.info())"
   ]
  },
  {
   "cell_type": "markdown",
   "metadata": {},
   "source": [
    "### Podział danych na dane wejściowe (treningowe) oraz wyjściowe (odpowiedź)"
   ]
  },
  {
   "cell_type": "code",
   "execution_count": 84,
   "metadata": {},
   "outputs": [],
   "source": [
    "Input = dane[[\"student\",\"balance\",\"income\"]]\n",
    "Output = dane[\"default\"]\n",
    "\n",
    "\n",
    "X = np.array(Input) # wielkie X ponieważ dane wejściowe są złożone \n",
    "y = np.array(Output) # małe y ponieważ odpowiedź jest pojedynczą wartością\n",
    "\n",
    "X_train,X_test,y_train,y_test = train_test_split (X,y,test_size=0.1,random_state=43)"
   ]
  },
  {
   "cell_type": "code",
   "execution_count": 85,
   "metadata": {},
   "outputs": [
    {
     "name": "stdout",
     "output_type": "stream",
     "text": [
      "0.9736666666666667\n",
      "0.971\n"
     ]
    }
   ],
   "source": [
    "model = LogisticRegression()\n",
    "model.fit(X_train,y_train)\n",
    "\n",
    "y_pred = model.predict(X_test)\n",
    "\n",
    "print(model.score(X_train,y_train))\n",
    "print(model.score(X_test,y_test))"
   ]
  },
  {
   "cell_type": "markdown",
   "metadata": {},
   "source": [
    "### Predykcja odpowiedzi"
   ]
  },
  {
   "cell_type": "code",
   "execution_count": 100,
   "metadata": {},
   "outputs": [
    {
     "name": "stdout",
     "output_type": "stream",
     "text": [
      "Klient godny zaufania\n"
     ]
    }
   ],
   "source": [
    "# czy_student = int(input(\"Czy jesteś studentem? NIE:0, TAK:1 \"))\n",
    "# sredni_dochod = float(input(\"Podaj średni dochód z ostatnich 3 miesięcy: \"))\n",
    "# srednie_saldo = float(input(\"Podaj średnie saldo z ostatnich 3 miesięcy: \"))\n",
    "\n",
    "czy_student = 1\n",
    "sredni_dochod = 5000\n",
    "srednie_saldo = 2000\n",
    "\n",
    "pred = model.predict([[czy_student,srednie_saldo,sredni_dochod]]) \n",
    "print(\"Ryzykowny klient\" if pred == 1 else \"Klient godny zaufania\")\n",
    "\n",
    "\n"
   ]
  }
 ],
 "metadata": {
  "kernelspec": {
   "display_name": "Python 3",
   "language": "python",
   "name": "python3"
  },
  "language_info": {
   "codemirror_mode": {
    "name": "ipython",
    "version": 3
   },
   "file_extension": ".py",
   "mimetype": "text/x-python",
   "name": "python",
   "nbconvert_exporter": "python",
   "pygments_lexer": "ipython3",
   "version": "3.12.3"
  }
 },
 "nbformat": 4,
 "nbformat_minor": 2
}
