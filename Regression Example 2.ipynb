{
 "cells": [
  {
   "cell_type": "markdown",
   "metadata": {},
   "source": [
    "## Regresja logistyczna"
   ]
  },
  {
   "cell_type": "markdown",
   "metadata": {},
   "source": [
    "### Wczytanie bibliotek i danych\n",
    "\n",
    "Wymagane biblioteki:\n",
    "- pandas (pip install pandas)\n",
    "- sklearn (pip install scikit-learn)\n",
    "- matplotlib (pip install matplotlib)\n",
    "- numpy (pip install numpy)"
   ]
  },
  {
   "cell_type": "code",
   "execution_count": 1,
   "metadata": {},
   "outputs": [
    {
     "name": "stdout",
     "output_type": "stream",
     "text": [
      "      default  student      balance        income\n",
      "0           0        0   729.526495  44361.625074\n",
      "1           0        1   817.180407  12106.134700\n",
      "2           0        0  1073.549164  31767.138947\n",
      "3           0        0   529.250605  35704.493935\n",
      "4           0        0   785.655883  38463.495879\n",
      "...       ...      ...          ...           ...\n",
      "9995        0        0   711.555020  52992.378914\n",
      "9996        0        0   757.962918  19660.721768\n",
      "9997        0        0   845.411989  58636.156984\n",
      "9998        0        0  1569.009053  36669.112365\n",
      "9999        0        1   200.922183  16862.952321\n",
      "\n",
      "[10000 rows x 4 columns]\n",
      "      default  student      balance        income\n",
      "0           0        0   729.526495  44361.625074\n",
      "1           0        1   817.180407  12106.134700\n",
      "2           0        0  1073.549164  31767.138947\n",
      "3           0        0   529.250605  35704.493935\n",
      "4           0        0   785.655883  38463.495879\n",
      "...       ...      ...          ...           ...\n",
      "9995        0        0   711.555020  52992.378914\n",
      "9996        0        0   757.962918  19660.721768\n",
      "9997        0        0   845.411989  58636.156984\n",
      "9998        0        0  1569.009053  36669.112365\n",
      "9999        0        1   200.922183  16862.952321\n",
      "\n",
      "[10000 rows x 4 columns]\n",
      "<class 'pandas.core.frame.DataFrame'>\n",
      "RangeIndex: 10000 entries, 0 to 9999\n",
      "Data columns (total 4 columns):\n",
      " #   Column   Non-Null Count  Dtype  \n",
      "---  ------   --------------  -----  \n",
      " 0   default  10000 non-null  int64  \n",
      " 1   student  10000 non-null  int64  \n",
      " 2   balance  10000 non-null  float64\n",
      " 3   income   10000 non-null  float64\n",
      "dtypes: float64(2), int64(2)\n",
      "memory usage: 312.6 KB\n",
      "None\n"
     ]
    }
   ],
   "source": [
    "import numpy as np\n",
    "import pandas as pd\n",
    "from sklearn.linear_model import LogisticRegression\n",
    "from sklearn. model_selection import train_test_split\n",
    "from sklearn import metrics\n",
    "\n",
    "dane = pd.read_csv('finances.csv', sep=',', decimal='.')\n",
    "print(dane)\n",
    "\n",
    "\n",
    "print(dane)\n",
    "print(dane.info())"
   ]
  },
  {
   "cell_type": "markdown",
   "metadata": {},
   "source": [
    "### Podział danych na dane wejściowe (treningowe) oraz wyjściowe (odpowiedź)"
   ]
  },
  {
   "cell_type": "code",
   "execution_count": 2,
   "metadata": {},
   "outputs": [],
   "source": [
    "Input = dane[[\"student\",\"balance\",\"income\"]]\n",
    "Output = dane[\"default\"]\n",
    "\n",
    "\n",
    "X = np.array(Input) # wielkie X ponieważ dane wejściowe są złożone \n",
    "y = np.array(Output) # małe y ponieważ odpowiedź jest pojedynczą wartością\n",
    "\n",
    "X_train,X_test,y_train,y_test = train_test_split (X,y,test_size=0.3,random_state=43)"
   ]
  },
  {
   "cell_type": "code",
   "execution_count": 3,
   "metadata": {},
   "outputs": [],
   "source": [
    "model = LogisticRegression()\n",
    "model.fit(X_train,y_train)\n",
    "\n",
    "y_pred = model.predict(X_test)"
   ]
  },
  {
   "cell_type": "markdown",
   "metadata": {},
   "source": [
    "### Predykcja odpowiedzi"
   ]
  },
  {
   "cell_type": "code",
   "execution_count": 4,
   "metadata": {},
   "outputs": [
    {
     "name": "stdout",
     "output_type": "stream",
     "text": [
      "Ryzykowny klient\n"
     ]
    }
   ],
   "source": [
    "# czy_student = int(input(\"Czy jesteś studentem? NIE:0, TAK:1 \"))\n",
    "# sredni_dochod = float(input(\"Podaj średni dochód z ostatnich 3 miesięcy: \"))\n",
    "# srednie_saldo = float(input(\"Podaj średnie saldo z ostatnich 3 miesięcy: \"))\n",
    "\n",
    "czy_student = 1\n",
    "sredni_dochod = 5000\n",
    "srednie_saldo = 4000\n",
    "\n",
    "pred = model.predict([[czy_student,srednie_saldo,sredni_dochod]]) \n",
    "print(\"Ryzykowny klient\" if pred == 1 else \"Klient godny zaufania\")\n",
    "\n",
    "\n"
   ]
  },
  {
   "cell_type": "markdown",
   "metadata": {},
   "source": [
    "## Sprawdzanie modelu"
   ]
  },
  {
   "cell_type": "markdown",
   "metadata": {},
   "source": [
    "### classification_report\n",
    "\n",
    "1. Precision: Procent prawidłowych pozytywnych przewidywań w stosunku do wszystkich pozytywnych przewidywań.\n",
    "2. Recall: Procent prawidłowych pozytywnych przewidywań w stosunku do wszystkich rzeczywistych pozytywnych przewidywań.\n",
    "3. F1-Score: Ważona średnia harmoniczna precyzji i zapamiętywania (im bliżej 1, tym lepszy model)\n",
    "4. Support: Liczba wystąpień każdej klasy w y_true.\n",
    "\n",
    "`F1_Score: 2 * (Precision * Recall) / (Precision + Recall)`\n",
    "\n",
    "\n",
    "### confusion_matrix\n",
    "\n",
    "1. [LG] True Positive (TP) - odnosi się do próbki należącej do klasy pozytywnej, która została prawidłowo sklasyfikowana.\n",
    "2. [PD] True Negative (TN) - odnosi się do próbki należącej do klasy negatywnej, która została prawidłowo sklasyfikowana.\n",
    "3. [PG] False Positive (FP) - odnosi się do próbki należącej do klasy negatywnej, ale błędnie sklasyfikowanej jako należąca do klasy pozytywnej.\n",
    "4. [LD] False Negative (FN) - odnosi się do próbki należącej do klasy pozytywnej, ale błędnie sklasyfikowanej jako należąca do klasy negatywnej."
   ]
  },
  {
   "cell_type": "code",
   "execution_count": 16,
   "metadata": {},
   "outputs": [
    {
     "name": "stdout",
     "output_type": "stream",
     "text": [
      "0.9742857142857143\n",
      "0.9703333333333334\n",
      "              precision    recall  f1-score   support\n",
      "\n",
      "           0       0.97      1.00      0.98      2885\n",
      "           1       0.76      0.33      0.46       115\n",
      "\n",
      "    accuracy                           0.97      3000\n",
      "   macro avg       0.87      0.66      0.72      3000\n",
      "weighted avg       0.97      0.97      0.96      3000\n",
      "\n",
      "[[2873   12]\n",
      " [  77   38]]\n",
      "[[-5.18391801e-01  5.48273008e-03  1.66203000e-06]] [-10.50830844]\n",
      "0.5954774242486561\n",
      "1.0054977877546778\n",
      "1.0000016620313787\n"
     ]
    }
   ],
   "source": [
    "print(model.score(X_train,y_train))\n",
    "print(model.score(X_test,y_test))\n",
    "\n",
    "from sklearn.metrics import classification_report\n",
    "\n",
    "y_pred = model.predict(X_test)\n",
    "\n",
    "print(classification_report(y_test, y_pred))\n",
    "\n",
    "from sklearn.metrics import confusion_matrix\n",
    "print(confusion_matrix(y_test, y_pred))\n",
    "\n",
    "print(model.coef_,model.intercept_)\n",
    "\n",
    "import math\n",
    "for i in model.coef_[0]:\n",
    "    print(math.exp(i))"
   ]
  }
 ],
 "metadata": {
  "kernelspec": {
   "display_name": "Python 3",
   "language": "python",
   "name": "python3"
  },
  "language_info": {
   "codemirror_mode": {
    "name": "ipython",
    "version": 3
   },
   "file_extension": ".py",
   "mimetype": "text/x-python",
   "name": "python",
   "nbconvert_exporter": "python",
   "pygments_lexer": "ipython3",
   "version": "3.12.3"
  }
 },
 "nbformat": 4,
 "nbformat_minor": 2
}
